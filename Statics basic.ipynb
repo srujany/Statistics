{
  "nbformat": 4,
  "nbformat_minor": 0,
  "metadata": {
    "colab": {
      "provenance": [],
      "authorship_tag": "ABX9TyM6Bgi4mTuLkQWIR3pS4NvR",
      "include_colab_link": true
    },
    "kernelspec": {
      "name": "python3",
      "display_name": "Python 3"
    },
    "language_info": {
      "name": "python"
    }
  },
  "cells": [
    {
      "cell_type": "markdown",
      "metadata": {
        "id": "view-in-github",
        "colab_type": "text"
      },
      "source": [
        "<a href=\"https://colab.research.google.com/github/srujany/Statistics/blob/main/Statics%20basic.ipynb\" target=\"_parent\"><img src=\"https://colab.research.google.com/assets/colab-badge.svg\" alt=\"Open In Colab\"/></a>"
      ]
    },
    {
      "cell_type": "markdown",
      "source": [
        "Q1. What is Statistics?"
      ],
      "metadata": {
        "id": "6wp-I9eq47Ml"
      }
    },
    {
      "cell_type": "markdown",
      "source": [
        "Statistics is the branch of mathematics that deals with the collection, analysis, interpretation, presentation, and organization of data. It helps in making informed decisions based on data by identifying patterns, trends, and relationships.\n",
        "\n",
        "There are two main types of statistics:\n",
        "\n",
        "1. Descriptive Statistics – Summarizes and describes the main features of a dataset (e.g., mean, median, mode, standard deviation).\n",
        "\n",
        "\n",
        "2. Inferential Statistics – Makes predictions or inferences about a population based on a sample (e.g., hypothesis testing, confidence intervals, regression analysis).\n",
        "\n",
        "\n",
        "\n",
        "Statistics is widely used in various fields, including business, healthcare, economics, and social sciences."
      ],
      "metadata": {
        "id": "1X3a_PoF5E0g"
      }
    },
    {
      "cell_type": "markdown",
      "source": [
        "Q2. Define the different types of statistics and give an example of when each type might be used."
      ],
      "metadata": {
        "id": "wyMtYiCD5ZWj"
      }
    },
    {
      "cell_type": "markdown",
      "source": [
        "Statistics is broadly categorized into Descriptive Statistics and Inferential Statistics.\n",
        "\n",
        "1. Descriptive Statistics\n",
        "\n",
        "Descriptive statistics summarize and present data in a meaningful way without making predictions or generalizations. It includes measures like:\n",
        "\n",
        "Measures of Central Tendency: Mean, Median, Mode\n",
        "\n",
        "Measures of Dispersion: Range, Variance, Standard Deviation\n",
        "\n",
        "Graphical Representations: Bar charts, Pie charts, Histograms\n",
        "\n",
        "\n",
        "Example:\n",
        "A school wants to analyze students' test scores. It calculates the average (mean) score and displays the results in a bar chart to understand the overall performance.\n",
        "\n",
        "\n",
        "---\n",
        "\n",
        "2. Inferential Statistics\n",
        "\n",
        "Inferential statistics use a sample of data to make generalizations or predictions about a larger population. It involves:\n",
        "\n",
        "Hypothesis Testing (e.g., t-tests, chi-square tests)\n",
        "\n",
        "Confidence Intervals\n",
        "\n",
        "Regression Analysis\n",
        "\n",
        "\n",
        "Example:\n",
        "A pharmaceutical company tests a new drug on 1,000 patients and uses hypothesis testing to determine if it is effective for the entire population.\n",
        "\n",
        "In summary, Descriptive Statistics helps organize and summarize data, while Inferential Statistics helps make predictions or decisions based on data."
      ],
      "metadata": {
        "id": "VcM_2XdQ6NYk"
      }
    },
    {
      "cell_type": "markdown",
      "source": [
        "Q3.  What are the different types of data and how do they differ from each other? Provide an example of\n",
        "each type of data."
      ],
      "metadata": {
        "id": "ypvnweSs6XZA"
      }
    },
    {
      "cell_type": "markdown",
      "source": [
        "Data is classified into two main types: Qualitative (Categorical) Data and Quantitative (Numerical) Data.\n",
        "\n",
        "1. Qualitative (Categorical) Data\n",
        "\n",
        "This type of data represents categories or labels and cannot be measured numerically. It is further divided into:\n",
        "\n",
        "Nominal Data: Data with distinct categories but no inherent order.\n",
        "\n",
        "Example: Eye color (Blue, Brown, Green), Blood type (A, B, AB, O).\n",
        "\n",
        "\n",
        "Ordinal Data: Data with a meaningful order or ranking, but the differences between ranks are not measurable.\n",
        "\n",
        "Example: Customer satisfaction ratings (Satisfied, Neutral, Dissatisfied), Education levels (High School, Bachelor's, Master's).\n",
        "\n",
        "\n",
        "\n",
        "2. Quantitative (Numerical) Data\n",
        "\n",
        "This type of data consists of numerical values that can be measured or counted. It is further divided into:\n",
        "\n",
        "Discrete Data: Whole numbers that cannot be broken into smaller parts.\n",
        "\n",
        "Example: Number of students in a classroom (30), Number of cars in a parking lot (50).\n",
        "\n",
        "\n",
        "Continuous Data: Values that can take any number within a range and can be measured with precision.\n",
        "\n",
        "Example: Height of a person (5.8 feet), Temperature (36.5°C), Weight (70.5 kg).\n",
        "\n",
        "\n",
        "\n",
        "Key Differences\n",
        "\n",
        "Understanding these data types is essential for choosing the right statistical methods for analysis."
      ],
      "metadata": {
        "id": "twREFp0U6jGH"
      }
    },
    {
      "cell_type": "markdown",
      "source": [
        "Q4. Categorise the following datasets with respect to quantitative and qualitative data types:\n",
        "(i) Grading in exam: A+, A, B+, B, C+, C, D, E\n",
        "(ii)    Colour of mangoes: yellow, green, orange, red\n",
        "(iii)   Height data of a class: [178.9, 179, 179.5, 176, 177.2, 178.3, 175.8,...]\n",
        "(iv)    Number of mangoes exported by a farm: [500, 600, 478, 672, …]"
      ],
      "metadata": {
        "id": "9dHKs6NI68s2"
      }
    },
    {
      "cell_type": "markdown",
      "source": [
        "1.ordinal data\n",
        "2.nominal data\n",
        "3.continous data\n",
        "4.descrete data"
      ],
      "metadata": {
        "id": "dez_JRlP69oe"
      }
    },
    {
      "cell_type": "markdown",
      "source": [
        "Q5. Explain the concept of levels of measurement and give an example of a variable for each level."
      ],
      "metadata": {
        "id": "0T6PiyxZ7dUs"
      }
    },
    {
      "cell_type": "markdown",
      "source": [
        "The levels of measurement (also called scales of measurement) define how variables are classified based on their properties. There are four levels of measurement: Nominal, Ordinal, Interval, and Ratio.\n",
        "\n",
        "1. Nominal Level\n",
        "\n",
        "Definition: Data is categorized into distinct groups with no inherent order.\n",
        "\n",
        "Characteristics: Qualitative, no ranking, no meaningful mathematical operations.\n",
        "\n",
        "Example:\n",
        "\n",
        "Variable: Eye color (Blue, Brown, Green).\n",
        "\n",
        "Explanation: The categories have no logical order.\n",
        "\n",
        "\n",
        "\n",
        "2. Ordinal Level\n",
        "\n",
        "Definition: Data is categorized with a meaningful order, but the differences between values are not precisely measurable.\n",
        "\n",
        "Characteristics: Qualitative, ranking exists, but the gaps between rankings are unclear.\n",
        "\n",
        "Example:\n",
        "\n",
        "Variable: Customer satisfaction rating (Poor, Average, Good, Excellent).\n",
        "\n",
        "Explanation: The ratings have a meaningful order, but the difference between \"Average\" and \"Good\" is not numerically defined.\n",
        "\n",
        "\n",
        "\n",
        "3. Interval Level\n",
        "\n",
        "Definition: Data has ordered categories with equal intervals between values, but there is no true zero (zero does not mean absence).\n",
        "\n",
        "Characteristics: Quantitative, differences are meaningful, but ratios are not.\n",
        "\n",
        "Example:\n",
        "\n",
        "Variable: Temperature in Celsius (10°C, 20°C, 30°C).\n",
        "\n",
        "Explanation: The difference between 10°C and 20°C is the same as between 20°C and 30°C, but 0°C does not mean \"no temperature\".\n",
        "\n",
        "\n",
        "\n",
        "4. Ratio Level\n",
        "\n",
        "Definition: Data has ordered categories with equal intervals and a true zero, allowing for meaningful ratios.\n",
        "\n",
        "Characteristics: Quantitative, can perform all mathematical operations, including ratios.\n",
        "\n",
        "Example:\n",
        "\n",
        "Variable: Weight (0 kg, 50 kg, 100 kg).\n",
        "\n",
        "Explanation: A weight of 100 kg is twice as heavy as 50 kg, and 0 kg means no weight.\n",
        "\n",
        "\n",
        "\n",
        "Summary Table\n",
        "\n",
        "Understanding these levels helps in choosing the right statistical analysis methods for different types of data."
      ],
      "metadata": {
        "id": "XtudPkUF7ebb"
      }
    },
    {
      "cell_type": "markdown",
      "source": [
        "Q6. Why is it important to understand the level of measurement when analyzing data? Provide an\n",
        "example to illustrate your answer."
      ],
      "metadata": {
        "id": "BpmswBho9ghC"
      }
    },
    {
      "cell_type": "markdown",
      "source": [
        "Understanding the level of measurement is crucial in data analysis because it determines:\n",
        "\n",
        "1. Appropriate Statistical Methods – Different levels require different statistical tests.\n",
        "\n",
        "\n",
        "2. Validity of Mathematical Operations – Some mathematical operations (like averages) are meaningless for certain data types.\n",
        "\n",
        "\n",
        "3. Accurate Interpretation of Results – Ensures correct conclusions and meaningful insights.\n",
        "\n",
        "\n",
        "\n",
        "Example:\n",
        "\n",
        "Suppose a researcher is analyzing customer satisfaction in a store.\n",
        "\n",
        "If satisfaction is measured using ratings (e.g., Poor, Average, Good, Excellent), it is Ordinal Data.\n",
        "\n",
        "The Mean (Average) of these ratings cannot be calculated, but the Median or Mode can be used.\n",
        "\n",
        "If the researcher mistakenly treats it as Interval Data and calculates the average, the result would be misleading.\n",
        "\n",
        "\n",
        "Thus, knowing the level of measurement helps in selecting the right analysis techniques and avoiding incorrect interpretations."
      ],
      "metadata": {
        "id": "1E6rCSFQ9hGf"
      }
    },
    {
      "cell_type": "markdown",
      "source": [
        "Q7. How nominal data type is different from ordinal data type."
      ],
      "metadata": {
        "id": "rb2A66beBCki"
      }
    },
    {
      "cell_type": "markdown",
      "source": [
        "Nominal and ordinal data are both categorical data types, but they differ in terms of order and ranking:\n",
        "\n",
        "1. Nominal Data:\n",
        "\n",
        "Represents categories or labels with no inherent order.\n",
        "\n",
        "Examples: Gender (Male, Female), Blood Type (A, B, AB, O), Eye Color (Blue, Green, Brown).\n",
        "\n",
        "No ranking or meaningful comparison between categories.\n",
        "\n",
        "\n",
        "\n",
        "2. Ordinal Data:\n",
        "\n",
        "Represents categories with a meaningful order or ranking.\n",
        "\n",
        "Examples: Education Level (High School, Bachelor's, Master's, PhD), Customer Satisfaction (Poor, Fair, Good, Excellent).\n",
        "\n",
        "The order matters, but the difference between categories is not necessarily equal.\n",
        "\n",
        "\n",
        "\n",
        "\n",
        "Key Difference:\n",
        "\n",
        "Nominal data only classifies data into distinct groups without any ranking.\n",
        "\n",
        "Ordinal data classifies data into groups that have a meaningful order but do not have a consistent measurable difference between them."
      ],
      "metadata": {
        "id": "yTlsIMM9BDV5"
      }
    },
    {
      "cell_type": "markdown",
      "source": [
        "Q8. Which type of plot can be used to display data in terms of range?"
      ],
      "metadata": {
        "id": "IxwcjP_LSJTA"
      }
    },
    {
      "cell_type": "markdown",
      "source": [
        "To display data in terms of range, the following types of plots can be used:\n",
        "\n",
        "1. Box Plot (Box-and-Whisker Plot)\n",
        "\n",
        "Shows the minimum, first quartile (Q1), median (Q2), third quartile (Q3), and maximum values.\n",
        "\n",
        "Highlights the spread, skewness, and potential outliers in the data.\n",
        "\n",
        "\n",
        "\n",
        "2. Histogram\n",
        "\n",
        "Displays the frequency distribution of data within different intervals (bins).\n",
        "\n",
        "Helps visualize the spread and range of the dataset.\n",
        "\n",
        "\n",
        "\n",
        "3. Line Plot (with Error Bars or Shaded Region)\n",
        "\n",
        "Can show the range of variation by plotting minimum and maximum values as boundaries around a central trend line.\n",
        "\n",
        "\n",
        "\n",
        "4. Violin Plot\n",
        "\n",
        "Similar to a box plot but also shows the probability density of the data, providing insights into distribution along with the range.\n",
        "\n",
        "\n",
        "\n",
        "\n",
        "Among these, box plots are the most commonly used for directly representing range and spread in a dataset."
      ],
      "metadata": {
        "id": "hbRnCCK9SJfu"
      }
    },
    {
      "cell_type": "markdown",
      "source": [
        "Q9. Describe the difference between descriptive and inferential statistics. Give an example of each\n",
        "type of statistics and explain how they are used."
      ],
      "metadata": {
        "id": "m3qGltCwSkua"
      }
    },
    {
      "cell_type": "markdown",
      "source": [
        "Difference Between Descriptive and Inferential Statistics\n",
        "\n",
        "Examples and Usage\n",
        "\n",
        "1. Descriptive Statistics Example:\n",
        "\n",
        "A teacher calculates the average score of students in a math test.\n",
        "\n",
        "Use: Helps summarize and understand student performance in that specific test using mean, median, mode, and standard deviation.\n",
        "\n",
        "\n",
        "\n",
        "2. Inferential Statistics Example:\n",
        "\n",
        "A researcher surveys 500 people to estimate the average height of the entire country’s population.\n",
        "\n",
        "Use: Uses sample data to infer population characteristics, often applying confidence intervals or hypothesis testing to determine statistical significance.\n",
        "\n",
        "\n",
        "\n",
        "\n",
        "In summary, descriptive statistics focuses on summarizing data, while inferential statistics helps in making predictions and generalizations beyond the collected data."
      ],
      "metadata": {
        "id": "w33lJmVISx77"
      }
    },
    {
      "cell_type": "markdown",
      "source": [
        "Q10. What are some common measures of central tendency and variability used in statistics? Explain\n",
        "how each measure can be used to describe a dataset."
      ],
      "metadata": {
        "id": "k7wx1lUrSzYI"
      }
    },
    {
      "cell_type": "markdown",
      "source": [
        "Measures of Central Tendency and Variability in Statistics\n",
        "\n",
        "1. Measures of Central Tendency\n",
        "\n",
        "These describe the center or typical value of a dataset.\n",
        "\n",
        "Mean (Average)\n",
        "\n",
        "Sum of all values divided by the total number of values.\n",
        "\n",
        "Use: Best for normally distributed data but sensitive to outliers.\n",
        "\n",
        "Example: The average salary of employees in a company.\n",
        "\n",
        "\n",
        "Median\n",
        "\n",
        "The middle value when data is arranged in ascending order.\n",
        "\n",
        "Use: Useful when data has outliers or is skewed.\n",
        "\n",
        "Example: The median house price in a city, where a few very expensive houses might distort the mean.\n",
        "\n",
        "\n",
        "Mode\n",
        "\n",
        "The most frequently occurring value in a dataset.\n",
        "\n",
        "Use: Best for categorical data or identifying common trends.\n",
        "\n",
        "Example: The most common blood type in a hospital.\n",
        "\n",
        "\n",
        "\n",
        "2. Measures of Variability (Dispersion)\n",
        "\n",
        "These describe the spread of data points in a dataset.\n",
        "\n",
        "Range\n",
        "\n",
        "Difference between the maximum and minimum values.\n",
        "\n",
        "Use: Gives a quick idea of the spread but is affected by outliers.\n",
        "\n",
        "Example: Temperature variations in a city over a month.\n",
        "\n",
        "\n",
        "Variance\n",
        "\n",
        "Measures how much each data point deviates from the mean (squared differences).\n",
        "\n",
        "Use: Helps understand the spread of data; higher variance means more variability.\n",
        "\n",
        "Example: Comparing test score variability in two different schools.\n",
        "\n",
        "\n",
        "Standard Deviation (SD)\n",
        "\n",
        "Square root of variance; represents average deviation from the mean.\n",
        "\n",
        "Use: Shows how spread out data is; lower SD means data is closely clustered.\n",
        "\n",
        "Example: Stock market fluctuations—higher SD indicates more volatility.\n",
        "\n",
        "\n",
        "Interquartile Range (IQR)\n",
        "\n",
        "The range between the 25th percentile (Q1) and 75th percentile (Q3).\n",
        "\n",
        "Use: Helps measure variability without being affected by extreme values.\n",
        "\n",
        "Example: Comparing salaries where a few very high or low values might distort the mean.\n",
        "\n",
        "\n",
        "\n",
        "Conclusion\n",
        "\n",
        "Central tendency helps identify the dataset’s typical value.\n",
        "\n",
        "Variability shows how spread out the data points are.\n",
        "\n",
        "Both are essential to fully describe a dataset and make informed decisions."
      ],
      "metadata": {
        "id": "UJkeOSyrS6wq"
      }
    }
  ]
}